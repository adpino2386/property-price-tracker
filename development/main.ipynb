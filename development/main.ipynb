{
 "cells": [
  {
   "cell_type": "code",
   "execution_count": null,
   "metadata": {},
   "outputs": [],
   "source": [
    "import pandas as pd\n",
    "from bs4 import BeautifulSoup\n",
    "import requests\n",
    "import urllib.parse"
   ]
  },
  {
   "cell_type": "code",
   "execution_count": null,
   "metadata": {},
   "outputs": [],
   "source": [
    "url = 'https://www.centris.ca/en/properties~for-sale'\n",
    "headers = ({'User-Agent': 'Mozilla/5.0 (Windows NT 10.0; Win64; x64) AppleWebKit/537.36 (KHTML, like Gecko) Chrome/96.0.4664.110 Safari/537.36 Edg/96.0.1054.62'})"
   ]
  },
  {
   "cell_type": "code",
   "execution_count": null,
   "metadata": {},
   "outputs": [],
   "source": [
    "response = requests.get(url, headers=headers)\n",
    "print(response)"
   ]
  },
  {
   "cell_type": "code",
   "execution_count": null,
   "metadata": {},
   "outputs": [],
   "source": [
    "soup = BeautifulSoup(response.content, 'html.parser')\n",
    "print(soup.prettify())"
   ]
  },
  {
   "cell_type": "code",
   "execution_count": null,
   "metadata": {},
   "outputs": [],
   "source": [
    "result = soup.find_all('div', {'class': 'shell'})\n",
    "len(result)\n"
   ]
  },
  {
   "cell_type": "code",
   "execution_count": null,
   "metadata": {},
   "outputs": [],
   "source": [
    "import requests\n",
    "from bs4 import BeautifulSoup\n",
    "import pandas as pd\n",
    "import selenium\n",
    "import json\n",
    "\n",
    "headers = ({'User-Agent': 'Mozilla/5.0 (Windows NT 10.0; Win64; x64) AppleWebKit/537.36 (KHTML, like Gecko) Chrome/96.0.4664.110 Safari/537.36 Edg/96.0.1054.62'})\n",
    "\n",
    "with requests.Session() as session:\n",
    "    session.headers.update(headers)\n",
    "    url = f'https://www.centris.ca/en/houses~for-sale?view=Thumbnail&uc=1'\n",
    "    # Add code to capture and include cookies if needed\n",
    "    r = session.get(url)\n",
    "    #return r.status_code\n",
    "    soup = BeautifulSoup(r.content,'html.parser')\n",
    "\n",
    "json_data = {\"startPosition\": 0}"
   ]
  },
  {
   "cell_type": "code",
   "execution_count": null,
   "metadata": {},
   "outputs": [],
   "source": [
    "\n",
    "divs = soup.find_all('div', class_ = \"shell\")\n",
    "\n",
    "house_list = []\n",
    "for item in divs:\n",
    "\n",
    "    title = item.find('meta')['content']\n",
    "    print(title)\n",
    "\n",
    "    raw_address = item.find('span', class_ = 'address').get_text()\n",
    "    address = raw_address.strip() if raw_address else 'N/A'\n",
    "    print(address)\n",
    "\n",
    "    #house_list.append(title)\n",
    "\n",
    "    link = item.find('a', class_ = 'a-more-detail')['href']\n",
    "    print(link)\n",
    "\n",
    "    price = item.find('meta', itemprop = 'price')['content']\n",
    "    print(f'Price: {price}')\n",
    "\n",
    "    sku = item.find('meta', itemprop = 'sku')['content']\n",
    "    print(f'Sku: {sku}')\n",
    "\n",
    "    bedrooms = item.find('div', class_ = \"cac\").get_text()\n",
    "    print(f'Bedrooms: {bedrooms}')\n",
    "\n",
    "    bathrooms = item.find('div', class_ = \"sdb\").get_text()\n",
    "    print(f'Bathrooms: {bathrooms}')\n",
    "\n",
    "    try:\n",
    "        new_prop = item.find('div', class_ = \"banner new-property\")\n",
    "        if len(new_prop) > 0:\n",
    "            print('New Property: Yes')\n",
    "        else:\n",
    "            print('New Property: No')\n",
    "    except:\n",
    "         print('New Property: No')\n",
    "\n",
    "    try:\n",
    "        new_price = item.find('div', class_ = \"banner new-price\")\n",
    "        if len(new_price) > 0:\n",
    "            print('New Price: Yes')\n",
    "        else:\n",
    "            print('New Price: No')\n",
    "    except:\n",
    "         print('New Price: No')\n",
    "\n",
    "    print('\\n\\n')\n",
    "\n",
    "   \n",
    "#df = pd.DataFrame({'title': house_list})"
   ]
  },
  {
   "cell_type": "code",
   "execution_count": 5,
   "metadata": {},
   "outputs": [
    {
     "name": "stdout",
     "output_type": "stream",
     "text": [
      "Data Saved To excel\n"
     ]
    }
   ],
   "source": [
    "import json\n",
    "import requests\n",
    "from bs4 import BeautifulSoup\n",
    "import pandas as pd\n",
    "\n",
    "\n",
    "url = \"https://www.centris.ca/Property/GetInscriptions\"\n",
    "headers = {\n",
    "    \"User-Agent\": 'Mozilla/5.0 (Windows NT 10.0; Win64; x64) AppleWebKit/537.36 (KHTML, like Gecko) Chrome/96.0.4664.110 Safari/537.36 Edg/96.0.1054.62',\n",
    "}\n",
    "json_data = {\"startPosition\": 0}\n",
    "\n",
    "with requests.session() as s:\n",
    "    Centris = []\n",
    "    # load cookies:\n",
    "    s.get(\n",
    "        \"https://www.centris.ca/en/houses~for-sale?view=Thumbnail&uc=1\",\n",
    "        headers=headers,\n",
    "    )\n",
    "    for page in range(0, 1000, 20):  # <-- increase number of pages here\n",
    "        json_data[\"startPosition\"] = page\n",
    "\n",
    "        data = s.post(url, headers=headers, json=json_data).json()\n",
    "        soup = BeautifulSoup(data[\"d\"][\"Result\"][\"html\"], \"html.parser\")\n",
    "\n",
    "        for a in soup.select(\".a-more-detail\"):\n",
    "            title = a.select_one(\".category\").get_text(strip=True)\n",
    "            address = a.select_one(\".address\").get_text(strip=True, separator=\"\\n\")\n",
    "            link = \"https://www.centris.ca\" + a[\"href\"]\n",
    "            price = a.select_one(\".price\").get_text(strip=True)\n",
    "            \n",
    "\n",
    "            Centris.append((title, address, link, price))\n",
    "\n",
    "\n",
    "df = pd.DataFrame(Centris, columns={'Title': title, 'Address': address, 'Link': link, 'Price': price})\n",
    "\n",
    "with pd.ExcelWriter('C:\\Development\\property-price-tracker\\centris.xlsx') as writer:\n",
    "    df.to_excel(writer, sheet_name= 'Centris', index= False)\n",
    "\n",
    "print( 'Data Saved To excel' )"
   ]
  }
 ],
 "metadata": {
  "kernelspec": {
   "display_name": "PY_310",
   "language": "python",
   "name": "python3"
  },
  "language_info": {
   "codemirror_mode": {
    "name": "ipython",
    "version": 3
   },
   "file_extension": ".py",
   "mimetype": "text/x-python",
   "name": "python",
   "nbconvert_exporter": "python",
   "pygments_lexer": "ipython3",
   "version": "3.10.2"
  }
 },
 "nbformat": 4,
 "nbformat_minor": 2
}
